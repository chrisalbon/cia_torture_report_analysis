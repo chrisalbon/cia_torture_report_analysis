{
 "metadata": {
  "name": "",
  "signature": "sha256:ba7194c48ad3723f129df01cde9d79738984ffb33fe8c8e9af8a893e604fc63c"
 },
 "nbformat": 3,
 "nbformat_minor": 0,
 "worksheets": [
  {
   "cells": [
    {
     "cell_type": "markdown",
     "metadata": {},
     "source": [
      "# Timeline of the CIA Torture Report\n",
      "\n",
      "- By Chris Albon (@ChrisAlbon)\n",
      "- Date: December 9, 2014"
     ]
    },
    {
     "cell_type": "code",
     "collapsed": false,
     "input": [
      "# Import required modules\n",
      "import pandas as pd\n",
      "from ggplot import *\n",
      "import numpy as np\n",
      "%matplotlib inline\n",
      "import nltk.data\n",
      "\n",
      "# Set ipython's max row display\n",
      "pd.set_option('display.max_row', 1000)\n",
      "\n",
      "# Set iPython's max column width to 50\n",
      "pd.set_option('display.max_columns', 50)"
     ],
     "language": "python",
     "metadata": {},
     "outputs": [],
     "prompt_number": 18
    },
    {
     "cell_type": "code",
     "collapsed": false,
     "input": [
      "tokenizer = nltk.data.load('tokenizers/punkt/english.pickle')\n",
      "fp = open(\"data/sscistudy1.txt\")\n",
      "data = fp.read()"
     ],
     "language": "python",
     "metadata": {},
     "outputs": [],
     "prompt_number": 19
    },
    {
     "cell_type": "code",
     "collapsed": false,
     "input": [
      "data = data.replace('\\n', ' ')"
     ],
     "language": "python",
     "metadata": {},
     "outputs": [],
     "prompt_number": 34
    },
    {
     "cell_type": "code",
     "collapsed": false,
     "input": [
      "sentences = pd.Series(tokenizer.tokenize(data))"
     ],
     "language": "python",
     "metadata": {},
     "outputs": [],
     "prompt_number": 35
    },
    {
     "cell_type": "code",
     "collapsed": false,
     "input": [
      "# Create an empty dataframe\n",
      "df = pd.DataFrame()\n",
      "\n",
      "statements = pd.Series()"
     ],
     "language": "python",
     "metadata": {},
     "outputs": [],
     "prompt_number": 36
    },
    {
     "cell_type": "code",
     "collapsed": false,
     "input": [
      "statements = statements.append(sentences[sentences.str.contains(\"1997\") == True])\n",
      "statements = statements.append(sentences[sentences.str.contains(\"1998\") == True])\n",
      "statements = statements.append(sentences[sentences.str.contains(\"1999\") == True])\n",
      "statements = statements.append(sentences[sentences.str.contains(\"2000\") == True])\n",
      "statements = statements.append(sentences[sentences.str.contains(\"2001\") == True])\n",
      "statements = statements.append(sentences[sentences.str.contains(\"2002\") == True])\n",
      "statements = statements.append(sentences[sentences.str.contains(\"2003\") == True])\n",
      "statements = statements.append(sentences[sentences.str.contains(\"2004\") == True])\n",
      "statements = statements.append(sentences[sentences.str.contains(\"2005\") == True])\n",
      "statements = statements.append(sentences[sentences.str.contains(\"2006\") == True])\n",
      "statements = statements.append(sentences[sentences.str.contains(\"2007\") == True])\n",
      "statements = statements.append(sentences[sentences.str.contains(\"2008\") == True])\n",
      "statements = statements.append(sentences[sentences.str.contains(\"2009\") == True])\n",
      "statements = statements.append(sentences[sentences.str.contains(\"2010\") == True])\n",
      "statements = statements.append(sentences[sentences.str.contains(\"2011\") == True])\n",
      "statements = statements.append(sentences[sentences.str.contains(\"2012\") == True])\n",
      "statements = statements.append(sentences[sentences.str.contains(\"2013\") == True])\n",
      "statements = statements.append(sentences[sentences.str.contains(\"2014\") == True])\n",
      "statements = statements.append(sentences[sentences.str.contains(\"2014\") == True])"
     ],
     "language": "python",
     "metadata": {},
     "outputs": [],
     "prompt_number": 37
    },
    {
     "cell_type": "code",
     "collapsed": false,
     "input": [
      "year = []\n",
      "statement = []\n",
      "\n",
      "for row in statements:\n",
      "    if \"1997\" in row:\n",
      "        year.append(\"1997\")\n",
      "        statement.append(row)\n",
      "    if \"1998\" in row:\n",
      "        year.append(\"1998\")\n",
      "        statement.append(row)\n",
      "    if \"1999\" in row:\n",
      "        year.append(\"1999\")\n",
      "        statement.append(row)\n",
      "    if \"2000\" in row:\n",
      "        year.append(\"2000\")\n",
      "        statement.append(row)\n",
      "    if \"2001\" in row:\n",
      "        year.append(\"2001\")\n",
      "        statement.append(row)\n",
      "    if \"2002\" in row:\n",
      "        year.append(\"2002\")\n",
      "        statement.append(row)\n",
      "    if \"2003\" in row:\n",
      "        year.append(\"2003\")\n",
      "        statement.append(row)\n",
      "    if \"2004\" in row:\n",
      "        year.append(\"2004\")\n",
      "        statement.append(row)\n",
      "    if \"2005\" in row:\n",
      "        year.append(\"2005\")\n",
      "        statement.append(row)\n",
      "    if \"2006\" in row:\n",
      "        year.append(\"2006\")\n",
      "        statement.append(row)\n",
      "    if \"2007\" in row:\n",
      "        year.append(\"2007\")\n",
      "        statement.append(row)\n",
      "    if \"2008\" in row:\n",
      "        year.append(\"2008\")\n",
      "        statement.append(row)\n",
      "    if \"2009\" in row:\n",
      "        year.append(\"2009\")\n",
      "        statement.append(row)\n",
      "    if \"2010\" in row:\n",
      "        year.append(\"2010\")\n",
      "        statement.append(row)\n",
      "    if \"2011\" in row:\n",
      "        year.append(\"2011\")\n",
      "        statement.append(row)\n",
      "    if \"2012\" in row:\n",
      "        year.append(\"2012\")\n",
      "        statement.append(row)\n",
      "    if \"2013\" in row:\n",
      "        year.append(\"2013\")\n",
      "        statement.append(row)\n",
      "    if \"2014\" in row:\n",
      "        year.append(\"2014\")\n",
      "        statement.append(row)"
     ],
     "language": "python",
     "metadata": {},
     "outputs": [],
     "prompt_number": 38
    },
    {
     "cell_type": "code",
     "collapsed": false,
     "input": [
      "df = pd.DataFrame()\n",
      "\n",
      "df['year'] = year\n",
      "df['statement'] = statement"
     ],
     "language": "python",
     "metadata": {},
     "outputs": [],
     "prompt_number": 39
    },
    {
     "cell_type": "code",
     "collapsed": false,
     "input": [
      "df = df.set_index('year')"
     ],
     "language": "python",
     "metadata": {},
     "outputs": [],
     "prompt_number": 40
    },
    {
     "cell_type": "code",
     "collapsed": false,
     "input": [
      "df = df.sort()"
     ],
     "language": "python",
     "metadata": {},
     "outputs": [],
     "prompt_number": 41
    },
    {
     "cell_type": "code",
     "collapsed": false,
     "input": [
      "df.to_csv('sentences_mentioning_dates.csv')"
     ],
     "language": "python",
     "metadata": {},
     "outputs": [],
     "prompt_number": 44
    }
   ],
   "metadata": {}
  }
 ]
}